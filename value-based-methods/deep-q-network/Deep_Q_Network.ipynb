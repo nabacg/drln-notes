{
 "cells": [
  {
   "cell_type": "markdown",
   "metadata": {},
   "source": [
    "# Deep Q-Network (DQN)\n",
    "---\n",
    "In this notebook, you will implement a DQN agent with OpenAI Gym's LunarLander-v2 environment.\n",
    "\n",
    "### 1. Import the Necessary Packages"
   ]
  },
  {
   "cell_type": "code",
   "execution_count": 1,
   "metadata": {},
   "outputs": [
    {
     "name": "stdout",
     "output_type": "stream",
     "text": [
      "Requirement already satisfied: box2d in /opt/conda/lib/python3.6/site-packages\n",
      "\u001b[33mYou are using pip version 9.0.1, however version 18.1 is available.\n",
      "You should consider upgrading via the 'pip install --upgrade pip' command.\u001b[0m\n",
      "Requirement already satisfied: pyvirtualdisplay in /opt/conda/lib/python3.6/site-packages\n",
      "Requirement already satisfied: EasyProcess in /opt/conda/lib/python3.6/site-packages (from pyvirtualdisplay)\n",
      "\u001b[33mYou are using pip version 9.0.1, however version 18.1 is available.\n",
      "You should consider upgrading via the 'pip install --upgrade pip' command.\u001b[0m\n"
     ]
    }
   ],
   "source": [
    "import gym\n",
    "!pip3 install box2d\n",
    "import random\n",
    "import torch\n",
    "import numpy as np\n",
    "from collections import deque\n",
    "import matplotlib.pyplot as plt\n",
    "%matplotlib inline\n",
    "\n",
    "!python -m pip install pyvirtualdisplay\n",
    "from pyvirtualdisplay import Display\n",
    "display = Display(visible=0, size=(1400, 900))\n",
    "display.start()\n",
    "\n",
    "is_ipython = 'inline' in plt.get_backend()\n",
    "if is_ipython:\n",
    "    from IPython import display\n",
    "\n",
    "plt.ion()"
   ]
  },
  {
   "cell_type": "markdown",
   "metadata": {},
   "source": [
    "### 2. Instantiate the Environment and Agent\n",
    "\n",
    "Initialize the environment in the code cell below."
   ]
  },
  {
   "cell_type": "code",
   "execution_count": 2,
   "metadata": {},
   "outputs": [
    {
     "name": "stdout",
     "output_type": "stream",
     "text": [
      "\u001b[33mWARN: gym.spaces.Box autodetected dtype as <class 'numpy.float32'>. Please provide explicit dtype.\u001b[0m\n",
      "State shape:  (8,)\n",
      "Number of actions:  4\n"
     ]
    }
   ],
   "source": [
    "env = gym.make('LunarLander-v2')\n",
    "env.seed(0)\n",
    "print('State shape: ', env.observation_space.shape)\n",
    "print('Number of actions: ', env.action_space.n)"
   ]
  },
  {
   "cell_type": "markdown",
   "metadata": {},
   "source": [
    "Before running the next code cell, familiarize yourself with the code in **Step 2** and **Step 3** of this notebook, along with the code in `dqn_agent.py` and `model.py`.  Once you have an understanding of how the different files work together, \n",
    "- Define a neural network architecture in `model.py` that maps states to action values.  This file is mostly empty - it's up to you to define your own deep Q-network!\n",
    "- Finish the `learn` method in the `Agent` class in `dqn_agent.py`.  The sampled batch of experience tuples is already provided for you; you need only use the local and target Q-networks to compute the loss, before taking a step towards minimizing the loss.\n",
    "\n",
    "Once you have completed the code in `dqn_agent.py` and `model.py`, run the code cell below.  (_If you end up needing to make multiple changes and get unexpected behavior, please restart the kernel and run the cells from the beginning of the notebook!_)\n",
    "\n",
    "You can find the solution files, along with saved model weights for a trained agent, in the `solution/` folder.  (_Note that there are many ways to solve this exercise, and the \"solution\" is just one way of approaching the problem, to yield a trained agent._)"
   ]
  },
  {
   "cell_type": "code",
   "execution_count": 3,
   "metadata": {},
   "outputs": [],
   "source": [
    "from dqn_agent import Agent\n",
    "\n",
    "agent = Agent(state_size=8, action_size=4, seed=0)"
   ]
  },
  {
   "cell_type": "code",
   "execution_count": 3,
   "metadata": {},
   "outputs": [
    {
     "data": {
      "image/png": "[encoded data removed]",
      "text/plain": [
       "<matplotlib.figure.Figure at 0x7f696acc5f60>"
      ]
     },
     "metadata": {
      "needs_background": "light"
     },
     "output_type": "display_data"
    }
   ],
   "source": [
    "from dqn_agent import Agent\n",
    "\n",
    "agent = Agent(state_size=8, action_size=4, seed=0)\n",
    "\n",
    "# watch an untrained agent\n",
    "state = env.reset()\n",
    "img = plt.imshow(env.render(mode='rgb_array'))\n",
    "for j in range(200):\n",
    "    action = agent.act(state)\n",
    "    img.set_data(env.render(mode='rgb_array')) \n",
    "    plt.axis('off')\n",
    "    display.display(plt.gcf())\n",
    "    display.clear_output(wait=True)\n",
    "    state, reward, done, _ = env.step(action)\n",
    "    if done:\n",
    "        break \n",
    "        \n",
    "env.close()"
   ]
  },
  {
   "cell_type": "markdown",
   "metadata": {},
   "source": [
    "### 3. Train the Agent with DQN\n",
    "\n",
    "Run the code cell below to train the agent from scratch.  You are welcome to amend the supplied values of the parameters in the function, to try to see if you can get better performance!"
   ]
  },
  {
   "cell_type": "code",
   "execution_count": 6,
   "metadata": {
    "scrolled": true
   },
   "outputs": [
    {
     "name": "stdout",
     "output_type": "stream",
     "text": [
      "Episode 100\tAverage Score: -153.37\n",
      "Episode 200\tAverage Score: -85.109\n",
      "Episode 300\tAverage Score: 11.242\n",
      "Episode 400\tAverage Score: 139.17\n",
      "Episode 500\tAverage Score: 167.30\n",
      "Episode 596\tAverage Score: 201.79\n",
      "Environment solved in 496 episodes!\tAverage Score: 201.79\n"
     ]
    },
    {
     "data": {
      "image/png": "[encoded data removed]",
      "text/plain": [
       "<matplotlib.figure.Figure at 0x7fa4514ad2e8>"
      ]
     },
     "metadata": {
      "needs_background": "light"
     },
     "output_type": "display_data"
    }
   ],
   "source": [
    "def dqn(n_episodes=2000, max_t=1000, eps_start=1.0, eps_end=0.01, eps_decay=0.995):\n",
    "    \"\"\"Deep Q-Learning.\n",
    "    \n",
    "    Params\n",
    "    ======\n",
    "        n_episodes (int): maximum number of training episodes\n",
    "        max_t (int): maximum number of timesteps per episode\n",
    "        eps_start (float): starting value of epsilon, for epsilon-greedy action selection\n",
    "        eps_end (float): minimum value of epsilon\n",
    "        eps_decay (float): multiplicative factor (per episode) for decreasing epsilon\n",
    "    \"\"\"\n",
    "    scores = []                        # list containing scores from each episode\n",
    "    scores_window = deque(maxlen=100)  # last 100 scores\n",
    "    eps = eps_start                    # initialize epsilon\n",
    "    for i_episode in range(1, n_episodes+1):\n",
    "        state = env.reset()\n",
    "        score = 0\n",
    "        for t in range(max_t):\n",
    "            action = agent.act(state, eps)\n",
    "            next_state, reward, done, _ = env.step(action)\n",
    "            agent.step(state, action, reward, next_state, done)\n",
    "            state = next_state\n",
    "            score += reward\n",
    "            if done:\n",
    "                break \n",
    "        scores_window.append(score)       # save most recent score\n",
    "        scores.append(score)              # save most recent score\n",
    "        eps = max(eps_end, eps_decay*eps) # decrease epsilon\n",
    "        print('\\rEpisode {}\\tAverage Score: {:.2f}'.format(i_episode, np.mean(scores_window)), end=\"\")\n",
    "        if i_episode % 100 == 0:\n",
    "            print('\\rEpisode {}\\tAverage Score: {:.2f}'.format(i_episode, np.mean(scores_window)))\n",
    "        if np.mean(scores_window)>=200.0:\n",
    "            print('\\nEnvironment solved in {:d} episodes!\\tAverage Score: {:.2f}'.format(i_episode-100, np.mean(scores_window)))\n",
    "            torch.save(agent.qnetwork_local.state_dict(), 'checkpoint_dbl.pth')\n",
    "            break\n",
    "    return scores\n",
    "\n",
    "scores = dqn(n_episodes=3000)\n",
    "\n",
    "# plot the scores\n",
    "fig = plt.figure()\n",
    "ax = fig.add_subplot(111)\n",
    "plt.plot(np.arange(len(scores)), scores)\n",
    "plt.ylabel('Score')\n",
    "plt.xlabel('Episode #')\n",
    "plt.show()"
   ]
  },
  {
   "cell_type": "code",
   "execution_count": 6,
   "metadata": {},
   "outputs": [
    {
     "data": {
      "text/plain": [
       "0.0066539685788319656"
      ]
     },
     "execution_count": 6,
     "metadata": {},
     "output_type": "execute_result"
    }
   ],
   "source": [
    "0.995 ** 1000"
   ]
  },
  {
   "cell_type": "markdown",
   "metadata": {},
   "source": [
    "### 4. Watch a Smart Agent!\n",
    "\n",
    "In the next code cell, you will load the trained weights from file to watch a smart agent!"
   ]
  },
  {
   "cell_type": "code",
   "execution_count": 5,
   "metadata": {},
   "outputs": [
    {
     "data": {
      "image/png": "[encoded data removed]",
      "text/plain": [
       "<matplotlib.figure.Figure at 0x7f26acfb8e80>"
      ]
     },
     "metadata": {
      "needs_background": "light"
     },
     "output_type": "display_data"
    }
   ],
   "source": [
    "# load the weights from file\n",
    "agent.qnetwork_local.load_state_dict(torch.load('checkpoint_dbl.pth'))\n",
    "\n",
    "for i in range(3):\n",
    "    state = env.reset()\n",
    "    img = plt.imshow(env.render(mode='rgb_array'))\n",
    "    for j in range(200):\n",
    "        action = agent.act(state)\n",
    "        img.set_data(env.render(mode='rgb_array')) \n",
    "        plt.axis('off')\n",
    "        display.display(plt.gcf())\n",
    "        display.clear_output(wait=True)\n",
    "        state, reward, done, _ = env.step(action)\n",
    "        if done:\n",
    "            break \n",
    "            \n",
    "env.close()"
   ]
  },
  {
   "cell_type": "markdown",
   "metadata": {},
   "source": [
    "### 5. Explore\n",
    "\n",
    "In this exercise, you have implemented a DQN agent and demonstrated how to use it to solve an OpenAI Gym environment.  To continue your learning, you are encouraged to complete any (or all!) of the following tasks:\n",
    "- Amend the various hyperparameters and network architecture to see if you can get your agent to solve the environment faster.  Once you build intuition for the hyperparameters that work well with this environment, try solving a different OpenAI Gym task with discrete actions!\n",
    "- You may like to implement some improvements such as prioritized experience replay, Double DQN, or Dueling DQN! \n",
    "- Write a blog post explaining the intuition behind the DQN algorithm and demonstrating how to use it to solve an RL environment of your choosing.  "
   ]
  },
  {
   "cell_type": "markdown",
   "metadata": {},
   "source": [
    "## Learn impl"
   ]
  },
  {
   "cell_type": "code",
   "execution_count": 7,
   "metadata": {},
   "outputs": [],
   "source": [
    "? torch.nn.MSELoss"
   ]
  },
  {
   "cell_type": "code",
   "execution_count": 5,
   "metadata": {
    "scrolled": false
   },
   "outputs": [],
   "source": [
    "experiences = agent.memory.sample()\n",
    "states, actions, rewards, next_states, dones = experiences\n",
    "gamma = 0.99"
   ]
  },
  {
   "cell_type": "code",
   "execution_count": 10,
   "metadata": {
    "scrolled": true
   },
   "outputs": [
    {
     "data": {
      "text/plain": [
       "tensor([ 37.8497,  35.9624,  37.5401,  38.0908])"
      ]
     },
     "execution_count": 10,
     "metadata": {},
     "output_type": "execute_result"
    }
   ],
   "source": [
    "agent.qnetwork_target(next_states)[1]"
   ]
  },
  {
   "cell_type": "code",
   "execution_count": 7,
   "metadata": {
    "scrolled": true
   },
   "outputs": [
    {
     "data": {
      "text/plain": [
       "(torch.Size([64, 1]), torch.Size([64, 1]), torch.Size([64, 1]))"
      ]
     },
     "execution_count": 7,
     "metadata": {},
     "output_type": "execute_result"
    }
   ],
   "source": [
    "argmax_actions = torch.max(agent.qnetwork_local(next_states).detach(), dim=1)[1].unsqueeze(1)\n",
    "Q_values = agent.qnetwork_target(next_states).gather(1, argmax_actions)\n",
    "Q_target = rewards + gamma * Q_values * (1 - dones)\n",
    "Q_pred = agent.qnetwork_local(states).gather(1, actions)\n",
    "\n",
    "\n",
    "Q_values.size(), Q_target.size(), Q_pred.size()"
   ]
  },
  {
   "cell_type": "code",
   "execution_count": 11,
   "metadata": {
    "scrolled": true
   },
   "outputs": [
    {
     "name": "stdout",
     "output_type": "stream",
     "text": [
      "tensor([[ -7.7513],\n",
      "        [ -5.5928],\n",
      "        [ -5.6037],\n",
      "        [-12.6634],\n",
      "        [ -7.0588],\n",
      "        [-11.1277],\n",
      "        [ -8.0876],\n",
      "        [ -5.4353],\n",
      "        [ -5.1636],\n",
      "        [ -7.4538],\n",
      "        [ -5.4688],\n",
      "        [ -9.9599],\n",
      "        [ -6.5346],\n",
      "        [  3.0062],\n",
      "        [ -9.3830],\n",
      "        [ -5.1872],\n",
      "        [-24.4879],\n",
      "        [-16.2798],\n",
      "        [ -5.4016],\n",
      "        [-25.1299],\n",
      "        [-13.3526],\n",
      "        [-18.4168],\n",
      "        [-23.7806],\n",
      "        [ -6.1124],\n",
      "        [-24.3103],\n",
      "        [ -8.6349],\n",
      "        [-25.2857],\n",
      "        [-22.2841],\n",
      "        [-20.1546],\n",
      "        [ -5.2331],\n",
      "        [ -5.0031],\n",
      "        [-22.4250],\n",
      "        [-13.8806],\n",
      "        [-20.9574],\n",
      "        [-24.0675],\n",
      "        [ -6.4836],\n",
      "        [ -6.1981],\n",
      "        [ -6.6355],\n",
      "        [-13.6762],\n",
      "        [-84.4955],\n",
      "        [ -7.0877],\n",
      "        [ -8.3035],\n",
      "        [-20.7408],\n",
      "        [ -5.4445],\n",
      "        [ -8.1482],\n",
      "        [ -6.6625],\n",
      "        [ -7.7182],\n",
      "        [ -6.5500],\n",
      "        [-30.0076],\n",
      "        [ -5.5066],\n",
      "        [-23.8453],\n",
      "        [-10.5515],\n",
      "        [-10.0227],\n",
      "        [-16.3590],\n",
      "        [ -7.5588],\n",
      "        [-31.9747],\n",
      "        [-12.9364],\n",
      "        [ -7.0096],\n",
      "        [-10.3210],\n",
      "        [ -5.7670],\n",
      "        [-13.8040],\n",
      "        [ -7.7332],\n",
      "        [-17.1567],\n",
      "        [-11.7841]])\n"
     ]
    }
   ],
   "source": [
    "with torch.no_grad():\n",
    "    print(torch.max(agent.qnetwork_target(next_states), dim=1)[0].view(64,1))"
   ]
  },
  {
   "cell_type": "code",
   "execution_count": 7,
   "metadata": {
    "scrolled": true
   },
   "outputs": [
    {
     "data": {
      "text/plain": [
       "[tensor([-0.1708,  1.5383, -0.7911, -0.3293,  0.0398,  4.4324,  1.4238,\n",
       "          4.7334]),\n",
       " tensor([-2.0245, -2.0178,  1.8861,  0.7064, -0.3920, -5.6794, -1.8206,\n",
       "         -1.3785]),\n",
       " tensor([  0.8873,  -5.7495,  -0.8498,  10.4524,   0.8759,   0.9686,\n",
       "           4.1097,  -2.4035]),\n",
       " tensor([-1.1608,  2.4351,  0.9902, -2.2738, -2.3376,  0.5563, -3.9892,\n",
       "         -4.3204]),\n",
       " tensor([ 0.4938, -3.1341, -0.2284,  5.8012, -0.0667,  1.7901,  2.2122,\n",
       "         -2.0672]),\n",
       " tensor([-0.3270, -2.0595,  2.1947,  2.3051, -1.1017, -0.3830,  0.1368,\n",
       "         -1.1878]),\n",
       " tensor([ 0.6000, -2.8073,  0.7372,  4.2254, -0.1515,  1.5277,  1.4956,\n",
       "         -2.5479]),\n",
       " tensor([-0.4262, -5.0170, -3.3815,  5.5921, -0.2431,  1.1766,  1.4097,\n",
       "         -0.7385]),\n",
       " tensor([ 0.3851,  0.2680,  0.1775, -0.1558,  1.2883,  2.0682, -0.4455,\n",
       "         -4.1684]),\n",
       " tensor([ 0.4488, -0.8540,  0.6905,  2.9368,  0.1011,  1.3099,  0.5948,\n",
       "         -0.8678]),\n",
       " tensor([-0.1266,  1.7671,  0.1136, -2.5924, -0.5296, -0.3610, -1.6140,\n",
       "         -1.5110]),\n",
       " tensor([ 0.3596, -3.6842, -0.1376,  4.9733, -1.3034,  0.1930,  1.1262,\n",
       "         -1.6089]),\n",
       " tensor([ 0.2360,  0.1075, -0.4538,  0.4985,  2.0525,  3.1654, -0.3337,\n",
       "         -4.6196]),\n",
       " tensor([-2.1446,  0.3359, -3.3833, -0.9866, -0.1387,  0.0002, -2.0471,\n",
       "         -1.7170]),\n",
       " tensor([-0.4896,  2.4279,  1.3098, -2.1595,  0.2175,  0.4839, -2.6434,\n",
       "         -2.7620]),\n",
       " tensor([ 0.7915, -2.0083,  0.1953,  3.5429,  0.0132,  1.6087,  0.9286,\n",
       "         -1.6834]),\n",
       " tensor(2.8559),\n",
       " tensor(-4.3244),\n",
       " tensor(1.5654),\n",
       " tensor(-5.9913),\n",
       " tensor(0.6912),\n",
       " tensor(-0.1407),\n",
       " tensor(0.7600),\n",
       " tensor(1.9954),\n",
       " tensor(-0.4426),\n",
       " tensor(-0.4155),\n",
       " tensor(-3.9652),\n",
       " tensor(1.6784),\n",
       " tensor(-0.5544),\n",
       " tensor(-1.3706),\n",
       " tensor(-2.6900),\n",
       " tensor(0.2861),\n",
       " tensor([-0.2784, -0.1071,  0.1711, -0.0192, -0.1176, -0.1926, -0.2369,\n",
       "         -0.1888, -0.0048,  0.1372,  0.1469, -0.2420,  0.2482, -0.1880,\n",
       "         -0.0641, -0.1020]),\n",
       " tensor([ 0.1202, -0.1674, -0.2952, -0.5610, -0.2108, -0.0107, -0.3299,\n",
       "         -0.2039, -0.2151, -0.2651,  0.4061, -0.0852,  0.0388,  1.4280,\n",
       "         -0.3808, -0.1673]),\n",
       " tensor([ 0.4129,  2.3741,  1.2162, -1.6849,  0.5885,  0.1139,  0.6120,\n",
       "          1.1978,  0.4579,  0.3752, -2.3098,  0.2606,  0.3455, -0.5942,\n",
       "         -0.4541,  0.7699]),\n",
       " tensor([-2.1028,  0.7869, -0.6115,  0.6660, -0.2816,  0.3385, -0.2794,\n",
       "          0.0601, -0.1352,  0.3720, -0.2585, -0.8112, -0.5058,  0.1905,\n",
       "         -0.3272,  0.2450]),\n",
       " tensor([ 0.0643, -0.2583, -0.6031, -1.2684, -0.5931,  0.4663, -0.5297,\n",
       "         -0.8087, -0.2684, -0.4319,  0.5876, -0.5763, -0.2369,  1.2301,\n",
       "          0.7115, -0.7221]),\n",
       " tensor([-0.1653,  0.2032, -0.1360, -0.1791, -0.0511, -0.0426,  0.0156,\n",
       "          0.2483,  0.0892,  0.2384,  0.0985, -0.1459,  0.2371, -0.1906,\n",
       "         -0.1826,  0.0890]),\n",
       " tensor([-0.0041, -0.3639,  0.1392,  0.6808,  0.2269, -0.3788,  0.2667,\n",
       "         -0.0222,  0.0348,  0.0397, -0.1956,  0.0754,  0.2444, -0.1799,\n",
       "         -0.4587,  0.0185]),\n",
       " tensor([-0.1705, -0.0073, -0.1756, -0.2903, -0.2156,  0.0604,  0.0281,\n",
       "          0.0753,  0.0825, -0.2047, -0.0455, -0.0227,  0.1390,  1.1889,\n",
       "         -0.5551, -0.2700]),\n",
       " tensor([-0.2567,  0.1400, -0.1973, -0.2184,  0.1856, -0.1397, -0.0466,\n",
       "          0.0218, -0.0316, -0.1683, -0.2196,  0.1805, -0.0383,  0.1341,\n",
       "         -0.0923,  0.0727]),\n",
       " tensor([-0.4689, -0.3952, -2.2667,  0.8645, -1.3654, -0.3846, -1.1923,\n",
       "         -1.6528,  1.3379, -0.9255,  1.0793, -1.9199,  1.0290,  0.5696,\n",
       "          1.0128, -1.3386]),\n",
       " tensor([-0.9040, -0.2509, -0.5587,  0.5447, -0.1023, -0.3874, -0.4534,\n",
       "         -0.0425, -0.1007,  0.0501,  0.5223, -0.7257, -0.5810, -0.0230,\n",
       "          0.4517, -0.0462]),\n",
       " tensor([-1.5453,  1.5441,  1.8449, -0.7167,  1.2705,  0.7047,  0.9977,\n",
       "          1.2212,  0.6400,  0.3918, -2.2545,  0.7632,  1.0787, -0.4326,\n",
       "         -1.0933,  0.9287]),\n",
       " tensor([-1.5569,  2.1604,  2.3575,  0.0585,  1.3378,  0.9309,  1.4218,\n",
       "          1.6555,  0.0797,  0.8832, -0.2296,  1.1265, -0.1817, -0.4798,\n",
       "         -0.8968,  1.2347]),\n",
       " tensor([-0.5324,  0.4153,  1.3878, -0.3931,  0.8026,  0.2879,  0.6106,\n",
       "          0.7752,  0.5652,  0.1757, -0.0658,  0.7516,  0.8494,  0.3736,\n",
       "          0.2283,  0.2768]),\n",
       " tensor([-1.8486, -0.4049, -1.2270,  1.4783, -0.6712, -0.7737, -0.7461,\n",
       "         -0.3836, -0.0370,  0.4203,  0.8272, -1.3260, -0.7561, -0.1587,\n",
       "          0.3136,  0.0456]),\n",
       " tensor([-0.6091, -0.8482,  2.1752,  1.3143,  0.8054,  0.0399,  0.9516,\n",
       "          1.5098,  0.3138,  0.3142, -0.6968,  0.9537,  1.1900, -0.0029,\n",
       "         -0.9740,  0.9649]),\n",
       " tensor([-0.3386,  0.4611,  0.6223,  0.1074,  0.5545,  0.0021,  0.6093,\n",
       "          0.5770,  0.2699,  0.3150, -0.0820,  0.2397,  0.6287,  0.0462,\n",
       "         -0.1218,  0.1502]),\n",
       " tensor([-0.2385,  0.0262,  0.5305, -0.0184,  0.3426, -0.1459,  0.2991,\n",
       "          0.3632,  0.4031, -0.0879,  0.0336,  0.0000,  0.1723,  0.1654,\n",
       "         -0.1271,  0.2685]),\n",
       " tensor([ 3.2962, -1.0554, -5.1741,  1.0807, -3.1224, -1.8795, -2.4511,\n",
       "         -3.5121, -2.7860, -1.5345, -1.3016, -2.6160, -3.8776, -0.6675,\n",
       "         -2.9266, -1.9649]),\n",
       " tensor([-0.6686,  0.8276,  1.8747, -0.1435,  1.2681,  0.6470,  0.7179,\n",
       "          1.1493,  0.9696,  0.5479, -0.0964,  0.6468,  0.7981, -0.0382,\n",
       "          0.2477,  0.4135]),\n",
       " tensor([-0.0301, -0.0660,  0.0299, -0.2940, -0.2009, -0.1600,  0.0207,\n",
       "          0.2612,  0.0534, -0.0544,  0.2012, -0.2913, -0.3216,  0.7947,\n",
       "         -0.2605,  0.0402]),\n",
       " tensor([-0.4324,  0.6021, -0.1917, -0.6742, -0.0229,  0.2894,  0.1277,\n",
       "          0.1397,  0.0560, -0.1614, -0.5015,  0.1660,  0.3045, -0.2158,\n",
       "         -0.0356, -0.0789]),\n",
       " tensor([-0.1121,  0.0049,  0.3997,  0.0867, -0.1192,  0.2002,  0.2305,\n",
       "          0.2177,  0.3062, -0.1319,  0.0899,  0.1795,  0.0059,  0.0416,\n",
       "         -0.0972,  0.1931]),\n",
       " tensor([-2.2801, -0.3224, -0.9826,  1.4129, -0.5675, -0.3035, -0.2826,\n",
       "         -0.1607, -0.1600,  0.2106,  0.4552, -1.5253, -0.7482, -0.0429,\n",
       "          0.1272, -0.2184]),\n",
       " tensor([-0.5887, -0.1429, -0.1552,  0.7248, -0.3613, -0.3783, -0.3881,\n",
       "         -0.1076, -0.1149, -0.1243,  0.0578, -0.4493, -0.3319,  0.1294,\n",
       "          0.2536, -0.2346]),\n",
       " tensor([-0.0091, -0.1542, -0.9909,  0.4290, -0.6123,  0.0725, -0.5856,\n",
       "         -0.7186,  0.6627, -0.2618,  0.3707, -0.7120,  0.3787,  0.2197,\n",
       "          0.3820, -0.4151]),\n",
       " tensor([-0.4974, -0.0111, -0.1274,  0.1339, -0.1757,  0.4047, -0.0600,\n",
       "         -0.0602,  0.1704,  0.1025,  0.0907,  0.0881, -0.1162, -0.6058,\n",
       "          0.0306,  0.1725]),\n",
       " tensor([-0.3493, -0.1846,  0.7242,  0.0483,  0.3865, -0.2038,  0.1644,\n",
       "          0.3747,  0.2449,  0.0676,  0.2477,  0.4458,  0.4382,  0.3059,\n",
       "          0.1280, -0.0125]),\n",
       " tensor([-0.4833,  0.8482,  1.3032, -0.2698,  0.5265,  0.5657,  0.8699,\n",
       "          0.8798,  0.5422,  0.2094, -0.0606,  0.6841,  0.6881, -0.0223,\n",
       "          0.1214,  0.2859]),\n",
       " tensor([-0.2269,  0.4580,  0.7553, -0.2650,  0.6553,  0.1352,  0.4475,\n",
       "          0.6060,  0.5181,  0.0652,  0.2129,  0.3579,  0.3064,  0.0884,\n",
       "          0.0395, -0.0402]),\n",
       " tensor([-0.0172, -0.1858,  0.3711, -0.3212, -0.1562,  0.0500,  0.1648,\n",
       "          0.1702, -0.0221,  0.0134,  0.0595,  0.0669, -0.2188, -0.2119,\n",
       "         -0.1852,  0.1138]),\n",
       " tensor([-0.2089,  0.2590,  0.0855, -0.1847, -0.1513,  0.3761, -0.1482,\n",
       "          0.1949, -0.1763, -0.0572, -0.1237, -0.0826,  0.2957, -0.2271,\n",
       "         -0.2492, -0.1204]),\n",
       " tensor(1.00000e-02 *\n",
       "        1.5861),\n",
       " tensor(1.2544),\n",
       " tensor(-2.1355),\n",
       " tensor(3.3785),\n",
       " tensor(2.3507),\n",
       " tensor(-0.1512),\n",
       " tensor(1.00000e-02 *\n",
       "        1.4822),\n",
       " tensor(0.4843),\n",
       " tensor(1.00000e-02 *\n",
       "        -5.0757),\n",
       " tensor(6.6142),\n",
       " tensor(4.4761),\n",
       " tensor(-1.4270),\n",
       " tensor(8.0540),\n",
       " tensor(11.9345),\n",
       " tensor(8.0118),\n",
       " tensor(-0.3324),\n",
       " tensor(3.9553),\n",
       " tensor(4.6807),\n",
       " tensor(-1.1861),\n",
       " tensor(9.8290),\n",
       " tensor(0.4433),\n",
       " tensor(-0.4776),\n",
       " tensor(1.4886),\n",
       " tensor(6.3135),\n",
       " tensor(2.3970),\n",
       " tensor(2.0785),\n",
       " tensor(0.2460),\n",
       " tensor(6.9731),\n",
       " tensor(8.6245),\n",
       " tensor(3.4022),\n",
       " tensor(1.00000e-02 *\n",
       "        1.5882),\n",
       " tensor(-0.5237),\n",
       " tensor([ 0.0789, -0.6697, -0.2092, -0.6981, -1.1021,  0.1359, -0.2361,\n",
       "         -0.5554,  0.1035, -1.8359, -1.2623, -0.3839, -1.9139, -3.3106,\n",
       "         -2.3238, -0.2290, -1.0880, -1.3710, -0.2683, -2.6014, -0.4214,\n",
       "          0.0777, -0.4123, -1.7668, -0.7119, -0.5585, -0.0468, -2.1222,\n",
       "         -2.2622, -0.8581,  0.1134,  0.2075]),\n",
       " tensor([ 0.2476, -1.1505,  1.2702, -1.4826, -1.8683,  0.2811,  0.3172,\n",
       "         -0.4702,  0.1450, -4.8739, -2.6111,  2.0722, -1.0534, -1.8865,\n",
       "         -4.4968,  1.7936, -0.4821, -0.7235,  5.2836, -1.3572, -0.6543,\n",
       "          1.0009, -0.1987, -3.9462, -1.6863, -1.7121, -0.1354, -1.2915,\n",
       "         -1.2263, -0.4673, -0.3165,  0.4713]),\n",
       " tensor([ 0.1175, -0.6533, -0.1207, -0.8056, -1.1319,  0.1099, -0.2970,\n",
       "         -0.5194,  0.0224, -1.7545, -1.0952, -0.1577, -2.4535, -3.3506,\n",
       "         -1.9656, -0.2608, -1.2036, -1.3359, -0.2174, -2.7630, -0.2904,\n",
       "          0.0826, -0.4156, -1.4009, -0.5581, -0.6466, -0.0142, -1.9646,\n",
       "         -2.4608, -1.0254, -0.0005,  0.0108]),\n",
       " tensor([-0.1234, -0.2118, -1.1732, -2.3846,  0.2667,  0.0495, -0.0153,\n",
       "         -0.3795,  0.1428, -1.5595, -1.2019, -2.1252, -4.0625, -1.8746,\n",
       "         -2.2819, -0.9110, -0.9620, -0.6268,  5.1312, -2.1981, -0.0813,\n",
       "          0.3047, -0.3317, -1.9336, -0.7190, -0.4639, -0.6016, -0.5796,\n",
       "         -1.8710, -0.9110, -0.0148,  0.3677]),\n",
       " tensor(-2.2810),\n",
       " tensor(-4.5335),\n",
       " tensor(-1.8396),\n",
       " tensor(-1.8958)]"
      ]
     },
     "execution_count": 7,
     "metadata": {},
     "output_type": "execute_result"
    }
   ],
   "source": [
    "[p for ps in agent.qnetwork_target.parameters() for p in ps ]"
   ]
  },
  {
   "cell_type": "code",
   "execution_count": 8,
   "metadata": {
    "scrolled": false
   },
   "outputs": [
    {
     "data": {
      "text/plain": [
       "[Parameter containing:\n",
       " tensor([[-1.7084e-01,  1.5383e+00, -7.9114e-01, -3.2933e-01,  3.9761e-02,\n",
       "           4.4324e+00,  1.4238e+00,  4.7334e+00],\n",
       "         [-2.0245e+00, -2.0178e+00,  1.8861e+00,  7.0641e-01, -3.9199e-01,\n",
       "          -5.6794e+00, -1.8206e+00, -1.3785e+00],\n",
       "         [ 8.8727e-01, -5.7495e+00, -8.4977e-01,  1.0452e+01,  8.7595e-01,\n",
       "           9.6865e-01,  4.1097e+00, -2.4035e+00],\n",
       "         [-1.1608e+00,  2.4351e+00,  9.9020e-01, -2.2738e+00, -2.3376e+00,\n",
       "           5.5634e-01, -3.9892e+00, -4.3204e+00],\n",
       "         [ 4.9380e-01, -3.1341e+00, -2.2837e-01,  5.8012e+00, -6.6748e-02,\n",
       "           1.7901e+00,  2.2122e+00, -2.0672e+00],\n",
       "         [-3.2703e-01, -2.0595e+00,  2.1947e+00,  2.3051e+00, -1.1017e+00,\n",
       "          -3.8304e-01,  1.3675e-01, -1.1878e+00],\n",
       "         [ 6.0004e-01, -2.8073e+00,  7.3718e-01,  4.2254e+00, -1.5150e-01,\n",
       "           1.5277e+00,  1.4956e+00, -2.5479e+00],\n",
       "         [-4.2619e-01, -5.0170e+00, -3.3815e+00,  5.5921e+00, -2.4305e-01,\n",
       "           1.1766e+00,  1.4097e+00, -7.3847e-01],\n",
       "         [ 3.8513e-01,  2.6796e-01,  1.7755e-01, -1.5578e-01,  1.2883e+00,\n",
       "           2.0682e+00, -4.4549e-01, -4.1684e+00],\n",
       "         [ 4.4884e-01, -8.5401e-01,  6.9045e-01,  2.9368e+00,  1.0110e-01,\n",
       "           1.3099e+00,  5.9484e-01, -8.6781e-01],\n",
       "         [-1.2659e-01,  1.7671e+00,  1.1358e-01, -2.5924e+00, -5.2955e-01,\n",
       "          -3.6096e-01, -1.6140e+00, -1.5110e+00],\n",
       "         [ 3.5956e-01, -3.6842e+00, -1.3763e-01,  4.9733e+00, -1.3034e+00,\n",
       "           1.9302e-01,  1.1262e+00, -1.6089e+00],\n",
       "         [ 2.3600e-01,  1.0751e-01, -4.5377e-01,  4.9852e-01,  2.0525e+00,\n",
       "           3.1654e+00, -3.3375e-01, -4.6196e+00],\n",
       "         [-2.1446e+00,  3.3588e-01, -3.3833e+00, -9.8662e-01, -1.3866e-01,\n",
       "           2.3144e-04, -2.0471e+00, -1.7170e+00],\n",
       "         [-4.8963e-01,  2.4279e+00,  1.3098e+00, -2.1595e+00,  2.1751e-01,\n",
       "           4.8393e-01, -2.6434e+00, -2.7620e+00],\n",
       "         [ 7.9153e-01, -2.0083e+00,  1.9533e-01,  3.5429e+00,  1.3168e-02,\n",
       "           1.6087e+00,  9.2855e-01, -1.6834e+00]]), Parameter containing:\n",
       " tensor([ 2.8559, -4.3244,  1.5654, -5.9913,  0.6912, -0.1407,  0.7600,\n",
       "          1.9954, -0.4426, -0.4155, -3.9652,  1.6784, -0.5544, -1.3706,\n",
       "         -2.6900,  0.2861]), Parameter containing:\n",
       " tensor([[-2.7835e-01, -1.0712e-01,  1.7114e-01, -1.9174e-02, -1.1760e-01,\n",
       "          -1.9261e-01, -2.3689e-01, -1.8881e-01, -4.7973e-03,  1.3723e-01,\n",
       "           1.4695e-01, -2.4202e-01,  2.4816e-01, -1.8798e-01, -6.4053e-02,\n",
       "          -1.0205e-01],\n",
       "         [ 1.2022e-01, -1.6736e-01, -2.9525e-01, -5.6103e-01, -2.1082e-01,\n",
       "          -1.0720e-02, -3.2988e-01, -2.0394e-01, -2.1512e-01, -2.6509e-01,\n",
       "           4.0612e-01, -8.5219e-02,  3.8775e-02,  1.4280e+00, -3.8080e-01,\n",
       "          -1.6731e-01],\n",
       "         [ 4.1295e-01,  2.3741e+00,  1.2162e+00, -1.6849e+00,  5.8853e-01,\n",
       "           1.1394e-01,  6.1202e-01,  1.1978e+00,  4.5790e-01,  3.7523e-01,\n",
       "          -2.3098e+00,  2.6064e-01,  3.4546e-01, -5.9419e-01, -4.5408e-01,\n",
       "           7.6994e-01],\n",
       "         [-2.1028e+00,  7.8693e-01, -6.1153e-01,  6.6597e-01, -2.8156e-01,\n",
       "           3.3855e-01, -2.7941e-01,  6.0130e-02, -1.3519e-01,  3.7200e-01,\n",
       "          -2.5848e-01, -8.1124e-01, -5.0581e-01,  1.9051e-01, -3.2724e-01,\n",
       "           2.4497e-01],\n",
       "         [ 6.4318e-02, -2.5832e-01, -6.0311e-01, -1.2684e+00, -5.9310e-01,\n",
       "           4.6634e-01, -5.2971e-01, -8.0865e-01, -2.6836e-01, -4.3194e-01,\n",
       "           5.8757e-01, -5.7633e-01, -2.3692e-01,  1.2301e+00,  7.1150e-01,\n",
       "          -7.2207e-01],\n",
       "         [-1.6528e-01,  2.0321e-01, -1.3604e-01, -1.7907e-01, -5.1113e-02,\n",
       "          -4.2578e-02,  1.5569e-02,  2.4835e-01,  8.9213e-02,  2.3840e-01,\n",
       "           9.8540e-02, -1.4592e-01,  2.3712e-01, -1.9061e-01, -1.8265e-01,\n",
       "           8.9010e-02],\n",
       "         [-4.1226e-03, -3.6393e-01,  1.3922e-01,  6.8077e-01,  2.2693e-01,\n",
       "          -3.7875e-01,  2.6673e-01, -2.2241e-02,  3.4842e-02,  3.9651e-02,\n",
       "          -1.9564e-01,  7.5409e-02,  2.4443e-01, -1.7991e-01, -4.5871e-01,\n",
       "           1.8493e-02],\n",
       "         [-1.7052e-01, -7.2642e-03, -1.7564e-01, -2.9030e-01, -2.1562e-01,\n",
       "           6.0414e-02,  2.8124e-02,  7.5294e-02,  8.2472e-02, -2.0472e-01,\n",
       "          -4.5511e-02, -2.2670e-02,  1.3895e-01,  1.1889e+00, -5.5509e-01,\n",
       "          -2.7003e-01],\n",
       "         [-2.5673e-01,  1.3997e-01, -1.9734e-01, -2.1835e-01,  1.8563e-01,\n",
       "          -1.3970e-01, -4.6565e-02,  2.1848e-02, -3.1624e-02, -1.6832e-01,\n",
       "          -2.1965e-01,  1.8050e-01, -3.8294e-02,  1.3405e-01, -9.2274e-02,\n",
       "           7.2713e-02],\n",
       "         [-4.6889e-01, -3.9517e-01, -2.2667e+00,  8.6448e-01, -1.3654e+00,\n",
       "          -3.8460e-01, -1.1923e+00, -1.6528e+00,  1.3379e+00, -9.2550e-01,\n",
       "           1.0793e+00, -1.9199e+00,  1.0290e+00,  5.6956e-01,  1.0128e+00,\n",
       "          -1.3386e+00],\n",
       "         [-9.0404e-01, -2.5087e-01, -5.5865e-01,  5.4469e-01, -1.0230e-01,\n",
       "          -3.8740e-01, -4.5335e-01, -4.2535e-02, -1.0067e-01,  5.0149e-02,\n",
       "           5.2227e-01, -7.2571e-01, -5.8099e-01, -2.2967e-02,  4.5166e-01,\n",
       "          -4.6164e-02],\n",
       "         [-1.5453e+00,  1.5441e+00,  1.8449e+00, -7.1668e-01,  1.2705e+00,\n",
       "           7.0466e-01,  9.9766e-01,  1.2212e+00,  6.4004e-01,  3.9181e-01,\n",
       "          -2.2545e+00,  7.6322e-01,  1.0787e+00, -4.3262e-01, -1.0933e+00,\n",
       "           9.2875e-01],\n",
       "         [-1.5569e+00,  2.1604e+00,  2.3575e+00,  5.8483e-02,  1.3378e+00,\n",
       "           9.3089e-01,  1.4218e+00,  1.6555e+00,  7.9747e-02,  8.8323e-01,\n",
       "          -2.2961e-01,  1.1265e+00, -1.8166e-01, -4.7980e-01, -8.9684e-01,\n",
       "           1.2347e+00],\n",
       "         [-5.3241e-01,  4.1526e-01,  1.3878e+00, -3.9312e-01,  8.0258e-01,\n",
       "           2.8792e-01,  6.1058e-01,  7.7516e-01,  5.6522e-01,  1.7568e-01,\n",
       "          -6.5792e-02,  7.5163e-01,  8.4942e-01,  3.7358e-01,  2.2832e-01,\n",
       "           2.7678e-01],\n",
       "         [-1.8486e+00, -4.0493e-01, -1.2270e+00,  1.4783e+00, -6.7116e-01,\n",
       "          -7.7374e-01, -7.4610e-01, -3.8363e-01, -3.6974e-02,  4.2026e-01,\n",
       "           8.2720e-01, -1.3260e+00, -7.5615e-01, -1.5868e-01,  3.1357e-01,\n",
       "           4.5586e-02],\n",
       "         [-6.0908e-01, -8.4820e-01,  2.1752e+00,  1.3143e+00,  8.0536e-01,\n",
       "           3.9910e-02,  9.5161e-01,  1.5098e+00,  3.1378e-01,  3.1425e-01,\n",
       "          -6.9681e-01,  9.5372e-01,  1.1900e+00, -2.9243e-03, -9.7402e-01,\n",
       "           9.6490e-01],\n",
       "         [-3.3859e-01,  4.6115e-01,  6.2230e-01,  1.0740e-01,  5.5454e-01,\n",
       "           2.0558e-03,  6.0928e-01,  5.7704e-01,  2.6985e-01,  3.1497e-01,\n",
       "          -8.2015e-02,  2.3969e-01,  6.2870e-01,  4.6212e-02, -1.2177e-01,\n",
       "           1.5019e-01],\n",
       "         [-2.3847e-01,  2.6168e-02,  5.3053e-01, -1.8437e-02,  3.4261e-01,\n",
       "          -1.4594e-01,  2.9906e-01,  3.6318e-01,  4.0311e-01, -8.7929e-02,\n",
       "           3.3577e-02,  1.7229e-05,  1.7226e-01,  1.6544e-01, -1.2710e-01,\n",
       "           2.6851e-01],\n",
       "         [ 3.2962e+00, -1.0554e+00, -5.1741e+00,  1.0807e+00, -3.1224e+00,\n",
       "          -1.8795e+00, -2.4511e+00, -3.5121e+00, -2.7860e+00, -1.5345e+00,\n",
       "          -1.3016e+00, -2.6160e+00, -3.8776e+00, -6.6753e-01, -2.9266e+00,\n",
       "          -1.9649e+00],\n",
       "         [-6.6862e-01,  8.2761e-01,  1.8747e+00, -1.4347e-01,  1.2681e+00,\n",
       "           6.4698e-01,  7.1792e-01,  1.1493e+00,  9.6961e-01,  5.4787e-01,\n",
       "          -9.6422e-02,  6.4683e-01,  7.9814e-01, -3.8184e-02,  2.4772e-01,\n",
       "           4.1351e-01],\n",
       "         [-3.0078e-02, -6.6021e-02,  2.9889e-02, -2.9396e-01, -2.0088e-01,\n",
       "          -1.6003e-01,  2.0652e-02,  2.6124e-01,  5.3389e-02, -5.4437e-02,\n",
       "           2.0118e-01, -2.9127e-01, -3.2162e-01,  7.9467e-01, -2.6046e-01,\n",
       "           4.0178e-02],\n",
       "         [-4.3245e-01,  6.0212e-01, -1.9168e-01, -6.7423e-01, -2.2896e-02,\n",
       "           2.8937e-01,  1.2768e-01,  1.3974e-01,  5.6044e-02, -1.6140e-01,\n",
       "          -5.0147e-01,  1.6604e-01,  3.0446e-01, -2.1579e-01, -3.5621e-02,\n",
       "          -7.8945e-02],\n",
       "         [-1.1211e-01,  4.9023e-03,  3.9972e-01,  8.6669e-02, -1.1916e-01,\n",
       "           2.0018e-01,  2.3052e-01,  2.1772e-01,  3.0616e-01, -1.3194e-01,\n",
       "           8.9855e-02,  1.7946e-01,  5.9302e-03,  4.1568e-02, -9.7243e-02,\n",
       "           1.9313e-01],\n",
       "         [-2.2801e+00, -3.2236e-01, -9.8259e-01,  1.4129e+00, -5.6754e-01,\n",
       "          -3.0354e-01, -2.8256e-01, -1.6068e-01, -1.6002e-01,  2.1062e-01,\n",
       "           4.5517e-01, -1.5253e+00, -7.4818e-01, -4.2947e-02,  1.2720e-01,\n",
       "          -2.1836e-01],\n",
       "         [-5.8871e-01, -1.4293e-01, -1.5522e-01,  7.2481e-01, -3.6130e-01,\n",
       "          -3.7830e-01, -3.8814e-01, -1.0760e-01, -1.1492e-01, -1.2431e-01,\n",
       "           5.7799e-02, -4.4932e-01, -3.3191e-01,  1.2937e-01,  2.5360e-01,\n",
       "          -2.3462e-01],\n",
       "         [-9.1124e-03, -1.5425e-01, -9.9087e-01,  4.2901e-01, -6.1227e-01,\n",
       "           7.2490e-02, -5.8556e-01, -7.1862e-01,  6.6268e-01, -2.6176e-01,\n",
       "           3.7073e-01, -7.1204e-01,  3.7865e-01,  2.1969e-01,  3.8195e-01,\n",
       "          -4.1511e-01],\n",
       "         [-4.9742e-01, -1.1125e-02, -1.2743e-01,  1.3390e-01, -1.7575e-01,\n",
       "           4.0469e-01, -5.9969e-02, -6.0222e-02,  1.7038e-01,  1.0247e-01,\n",
       "           9.0692e-02,  8.8109e-02, -1.1616e-01, -6.0578e-01,  3.0590e-02,\n",
       "           1.7247e-01],\n",
       "         [-3.4927e-01, -1.8460e-01,  7.2420e-01,  4.8327e-02,  3.8654e-01,\n",
       "          -2.0377e-01,  1.6439e-01,  3.7470e-01,  2.4486e-01,  6.7600e-02,\n",
       "           2.4772e-01,  4.4582e-01,  4.3821e-01,  3.0587e-01,  1.2802e-01,\n",
       "          -1.2543e-02],\n",
       "         [-4.8332e-01,  8.4816e-01,  1.3032e+00, -2.6979e-01,  5.2649e-01,\n",
       "           5.6570e-01,  8.6989e-01,  8.7978e-01,  5.4221e-01,  2.0944e-01,\n",
       "          -6.0642e-02,  6.8407e-01,  6.8806e-01, -2.2255e-02,  1.2145e-01,\n",
       "           2.8588e-01],\n",
       "         [-2.2688e-01,  4.5796e-01,  7.5527e-01, -2.6500e-01,  6.5532e-01,\n",
       "           1.3517e-01,  4.4747e-01,  6.0595e-01,  5.1815e-01,  6.5172e-02,\n",
       "           2.1287e-01,  3.5792e-01,  3.0643e-01,  8.8440e-02,  3.9469e-02,\n",
       "          -4.0163e-02],\n",
       "         [-1.7231e-02, -1.8577e-01,  3.7106e-01, -3.2121e-01, -1.5615e-01,\n",
       "           5.0022e-02,  1.6477e-01,  1.7017e-01, -2.2122e-02,  1.3395e-02,\n",
       "           5.9483e-02,  6.6873e-02, -2.1880e-01, -2.1190e-01, -1.8522e-01,\n",
       "           1.1378e-01],\n",
       "         [-2.0893e-01,  2.5898e-01,  8.5457e-02, -1.8471e-01, -1.5132e-01,\n",
       "           3.7609e-01, -1.4822e-01,  1.9486e-01, -1.7632e-01, -5.7168e-02,\n",
       "          -1.2369e-01, -8.2649e-02,  2.9574e-01, -2.2715e-01, -2.4924e-01,\n",
       "          -1.2042e-01]]), Parameter containing:\n",
       " tensor([  0.0159,   1.2544,  -2.1355,   3.3785,   2.3507,  -0.1512,\n",
       "           0.0148,   0.4843,  -0.0508,   6.6142,   4.4761,  -1.4270,\n",
       "           8.0540,  11.9345,   8.0118,  -0.3324,   3.9553,   4.6807,\n",
       "          -1.1861,   9.8290,   0.4433,  -0.4776,   1.4886,   6.3135,\n",
       "           2.3970,   2.0785,   0.2460,   6.9731,   8.6245,   3.4022,\n",
       "           0.0159,  -0.5237]), Parameter containing:\n",
       " tensor([[ 0.0789, -0.6697, -0.2092, -0.6981, -1.1021,  0.1359, -0.2361,\n",
       "          -0.5554,  0.1035, -1.8359, -1.2623, -0.3839, -1.9139, -3.3106,\n",
       "          -2.3238, -0.2290, -1.0880, -1.3710, -0.2683, -2.6014, -0.4214,\n",
       "           0.0777, -0.4123, -1.7668, -0.7119, -0.5585, -0.0468, -2.1222,\n",
       "          -2.2622, -0.8581,  0.1134,  0.2075],\n",
       "         [ 0.2476, -1.1505,  1.2702, -1.4826, -1.8683,  0.2811,  0.3172,\n",
       "          -0.4702,  0.1450, -4.8739, -2.6111,  2.0722, -1.0534, -1.8865,\n",
       "          -4.4968,  1.7936, -0.4821, -0.7235,  5.2836, -1.3572, -0.6543,\n",
       "           1.0009, -0.1987, -3.9462, -1.6863, -1.7121, -0.1354, -1.2915,\n",
       "          -1.2263, -0.4673, -0.3165,  0.4713],\n",
       "         [ 0.1175, -0.6533, -0.1207, -0.8056, -1.1319,  0.1099, -0.2970,\n",
       "          -0.5194,  0.0224, -1.7545, -1.0952, -0.1577, -2.4535, -3.3506,\n",
       "          -1.9656, -0.2608, -1.2036, -1.3359, -0.2174, -2.7630, -0.2904,\n",
       "           0.0826, -0.4156, -1.4009, -0.5581, -0.6466, -0.0142, -1.9646,\n",
       "          -2.4608, -1.0254, -0.0005,  0.0108],\n",
       "         [-0.1234, -0.2118, -1.1732, -2.3846,  0.2667,  0.0495, -0.0153,\n",
       "          -0.3795,  0.1428, -1.5595, -1.2019, -2.1252, -4.0625, -1.8746,\n",
       "          -2.2819, -0.9110, -0.9620, -0.6268,  5.1312, -2.1981, -0.0813,\n",
       "           0.3047, -0.3317, -1.9336, -0.7190, -0.4639, -0.6016, -0.5796,\n",
       "          -1.8710, -0.9110, -0.0148,  0.3677]]), Parameter containing:\n",
       " tensor([-2.2810, -4.5335, -1.8396, -1.8958])]"
      ]
     },
     "execution_count": 8,
     "metadata": {},
     "output_type": "execute_result"
    }
   ],
   "source": [
    "list(agent.qnetwork_target.parameters())\n"
   ]
  },
  {
   "cell_type": "code",
   "execution_count": 7,
   "metadata": {},
   "outputs": [
    {
     "data": {
      "text/plain": [
       "tensor([[ -7.7513],\n",
       "        [ -5.5928],\n",
       "        [ -5.6037],\n",
       "        [-12.6634],\n",
       "        [ -7.0588],\n",
       "        [-11.1277],\n",
       "        [ -8.0876],\n",
       "        [ -5.4353],\n",
       "        [ -5.1636],\n",
       "        [ -7.4538],\n",
       "        [ -5.4688],\n",
       "        [ -9.9599],\n",
       "        [ -6.5346],\n",
       "        [  3.0062],\n",
       "        [ -9.3830],\n",
       "        [ -5.1872],\n",
       "        [-24.4879],\n",
       "        [-16.2798],\n",
       "        [ -5.4016],\n",
       "        [-25.1299],\n",
       "        [-13.3526],\n",
       "        [-18.4168],\n",
       "        [-23.7806],\n",
       "        [ -6.1124],\n",
       "        [-24.3103],\n",
       "        [ -8.6349],\n",
       "        [-25.2857],\n",
       "        [-22.2841],\n",
       "        [-20.1546],\n",
       "        [ -5.2331],\n",
       "        [ -5.0031],\n",
       "        [-22.4250],\n",
       "        [-13.8806],\n",
       "        [-20.9574],\n",
       "        [-24.0675],\n",
       "        [ -6.4836],\n",
       "        [ -6.1981],\n",
       "        [ -6.6355],\n",
       "        [-13.6762],\n",
       "        [-84.4955],\n",
       "        [ -7.0877],\n",
       "        [ -8.3035],\n",
       "        [-20.7408],\n",
       "        [ -5.4445],\n",
       "        [ -8.1482],\n",
       "        [ -6.6625],\n",
       "        [ -7.7182],\n",
       "        [ -6.5500],\n",
       "        [-30.0076],\n",
       "        [ -5.5066],\n",
       "        [-23.8453],\n",
       "        [-10.5515],\n",
       "        [-10.0227],\n",
       "        [-16.3590],\n",
       "        [ -7.5588],\n",
       "        [-31.9747],\n",
       "        [-12.9364],\n",
       "        [ -7.0096],\n",
       "        [-10.3210],\n",
       "        [ -5.7670],\n",
       "        [-13.8040],\n",
       "        [ -7.7332],\n",
       "        [-17.1567],\n",
       "        [-11.7841]])"
      ]
     },
     "execution_count": 7,
     "metadata": {},
     "output_type": "execute_result"
    }
   ],
   "source": [
    "agent.qnetwork_target(next_states).detach().max(1)[0].unsqueeze(1)"
   ]
  },
  {
   "cell_type": "code",
   "execution_count": 12,
   "metadata": {},
   "outputs": [
    {
     "name": "stdout",
     "output_type": "stream",
     "text": [
      "tensor([-173.4701, -263.7790, -263.5956,  -82.9189, -180.6217, -267.8596,\n",
      "        -177.4376, -240.1565, -280.6013, -202.6513,   -6.9098, -252.2322,\n",
      "        -271.9691,  -77.7730, -187.6306,    9.5624, -174.0587,  -98.5876,\n",
      "         -66.8094, -131.0910, -260.9374, -300.0998, -140.0681, -182.7054,\n",
      "        -227.3749, -107.9125, -181.0034, -205.1458,  -85.2273, -253.4206,\n",
      "        -242.6665, -206.9365, -248.9017,   -2.7883, -274.5090, -142.8521,\n",
      "        -264.1572, -127.5403, -103.4887, -169.2915, -172.7268, -156.9881,\n",
      "        -136.8643, -224.7482, -195.9100, -235.0862,  -81.6128, -168.1016,\n",
      "        -184.9666, -189.4526, -115.6838, -170.1867, -168.9824, -179.6572,\n",
      "           2.2175, -240.6736, -149.4601, -190.0272, -271.8825, -117.5943,\n",
      "        -192.4325, -119.5134,  -78.7763, -162.8498])\n"
     ]
    }
   ],
   "source": [
    "with torch.no_grad():\n",
    "    print(torch.max(agent.qnetwork_local(next_states), dim=1)[0])"
   ]
  },
  {
   "cell_type": "code",
   "execution_count": 64,
   "metadata": {},
   "outputs": [
    {
     "data": {
      "text/plain": [
       "(torch.Size([64, 1]), torch.Size([64, 8]), torch.Size([64, 8]))"
      ]
     },
     "execution_count": 64,
     "metadata": {},
     "output_type": "execute_result"
    }
   ],
   "source": [
    "rewards.size(), states.size(), next_states.size()"
   ]
  },
  {
   "cell_type": "code",
   "execution_count": 95,
   "metadata": {
    "scrolled": true
   },
   "outputs": [
    {
     "data": {
      "text/plain": [
       "tensor([[ 0.1486],\n",
       "        [ 0.1350],\n",
       "        [ 0.1555],\n",
       "        [ 0.1722],\n",
       "        [ 0.1870],\n",
       "        [ 0.1667],\n",
       "        [ 0.1441],\n",
       "        [ 0.1854],\n",
       "        [ 0.1563],\n",
       "        [ 0.1762],\n",
       "        [ 0.1786],\n",
       "        [ 0.1719],\n",
       "        [ 0.1648],\n",
       "        [ 0.1771],\n",
       "        [ 0.1800],\n",
       "        [ 0.1843],\n",
       "        [ 0.1759],\n",
       "        [ 0.1477],\n",
       "        [ 0.1423],\n",
       "        [ 0.1757],\n",
       "        [ 0.1797],\n",
       "        [ 0.1409],\n",
       "        [ 0.1831],\n",
       "        [ 0.1758],\n",
       "        [ 0.1682],\n",
       "        [ 0.1775],\n",
       "        [ 0.1764],\n",
       "        [ 0.1771],\n",
       "        [ 0.1232],\n",
       "        [ 0.1595],\n",
       "        [ 0.1303],\n",
       "        [ 0.1751],\n",
       "        [ 0.1573],\n",
       "        [ 0.1756],\n",
       "        [ 0.1519],\n",
       "        [ 0.1855],\n",
       "        [ 0.1674],\n",
       "        [ 0.1767],\n",
       "        [ 0.1416],\n",
       "        [ 0.1770],\n",
       "        [ 0.1883],\n",
       "        [ 0.1279],\n",
       "        [ 0.1780],\n",
       "        [ 0.1762],\n",
       "        [ 0.1470],\n",
       "        [ 0.1746],\n",
       "        [ 0.1660],\n",
       "        [ 0.1635],\n",
       "        [ 0.1516],\n",
       "        [ 0.1379],\n",
       "        [ 0.1788],\n",
       "        [ 0.1680],\n",
       "        [ 0.1622],\n",
       "        [ 0.1784],\n",
       "        [ 0.1288],\n",
       "        [ 0.1318],\n",
       "        [ 0.1774],\n",
       "        [ 0.1251],\n",
       "        [ 0.1650],\n",
       "        [ 0.1815],\n",
       "        [ 0.1770],\n",
       "        [ 0.1659],\n",
       "        [ 0.1596],\n",
       "        [ 0.1537]])"
      ]
     },
     "execution_count": 95,
     "metadata": {},
     "output_type": "execute_result"
    }
   ],
   "source": [
    "torch.max(agent.qnetwork_target(next_states), 1)[0].view(64,1)"
   ]
  },
  {
   "cell_type": "code",
   "execution_count": 55,
   "metadata": {},
   "outputs": [
    {
     "name": "stdout",
     "output_type": "stream",
     "text": [
      "torch.Size([64, 1]) torch.Size([64, 1])\n"
     ]
    }
   ],
   "source": [
    "with torch.no_grad():\n",
    "    Q_target = rewards + gamma * torch.max(agent.qnetwork_target(next_states), 1)[0].view(64,1)\n",
    "    print(Q_target.size(), (dones == False).size())\n",
    "    Q_target[dones == True] = rewards[dones == True]\n",
    "\n",
    "        \n",
    "    "
   ]
  },
  {
   "cell_type": "code",
   "execution_count": 54,
   "metadata": {},
   "outputs": [
    {
     "data": {
      "text/plain": [
       "(tensor([-3.3157]), tensor([-3.1798]), tensor([-3.1798]), tensor([ 0.]))"
      ]
     },
     "execution_count": 54,
     "metadata": {},
     "output_type": "execute_result"
    }
   ],
   "source": [
    "rewards[1], Q_target[1], y_r[1], dones[1]"
   ]
  },
  {
   "cell_type": "code",
   "execution_count": 38,
   "metadata": {},
   "outputs": [
    {
     "data": {
      "text/plain": [
       "torch.Size([22])"
      ]
     },
     "execution_count": 38,
     "metadata": {},
     "output_type": "execute_result"
    }
   ],
   "source": [
    "dones[rewards > 0].size()"
   ]
  },
  {
   "cell_type": "code",
   "execution_count": 41,
   "metadata": {},
   "outputs": [
    {
     "data": {
      "text/plain": [
       "torch.Size([22])"
      ]
     },
     "execution_count": 41,
     "metadata": {},
     "output_type": "execute_result"
    }
   ],
   "source": [
    "rewards[rewards > 0].size()"
   ]
  },
  {
   "cell_type": "code",
   "execution_count": 50,
   "metadata": {},
   "outputs": [
    {
     "data": {
      "text/plain": [
       "tensor([  0.2812,  -3.3157,  -1.9530,  -2.8649,  16.5595,  -2.2394,\n",
       "         -1.8320,  -2.1533,  -1.6270,   1.1604,  -1.8176,   1.7347,\n",
       "         -0.6652,   0.8627,  -2.3826,  -1.5406,   1.4788,  -1.3393,\n",
       "          0.5639,   0.3097,  -1.1882,  -2.6082,  -0.6480,  -2.0290,\n",
       "          4.7966,  -1.0161,  -2.4618,  -1.2331,  -1.0124,  -2.9120,\n",
       "         -2.1062,  -2.0676,  -3.1262,   3.5450,   1.3166,  -2.8266,\n",
       "          4.1164,  -2.0181,  -1.4966,   3.3726,   4.6523,   1.7250,\n",
       "         -2.6552,  -2.2477,   1.3617,  -0.3848,  -1.9606,  -2.4141,\n",
       "         -3.2981,  -2.1314,  -0.7836,   7.6641,   2.0052,  -1.7381,\n",
       "         -1.0270,  -2.1240,   3.7740,   1.1282,  -3.2502,  -1.9701,\n",
       "          1.9323,  -3.1633,  -0.5744,   2.2044])"
      ]
     },
     "execution_count": 50,
     "metadata": {},
     "output_type": "execute_result"
    }
   ],
   "source": [
    "torch.masked_select(rewards, dones.eq(False))"
   ]
  },
  {
   "cell_type": "code",
   "execution_count": 45,
   "metadata": {},
   "outputs": [
    {
     "data": {
      "text/plain": [
       "tensor([  0.2812,  -3.3157,  -1.9530,  -2.8649,  16.5595,  -2.2394,\n",
       "         -1.8320,  -2.1533,  -1.6270,   1.1604,  -1.8176,   1.7347,\n",
       "         -0.6652,   0.8627,  -2.3826,  -1.5406,   1.4788,  -1.3393,\n",
       "          0.5639,   0.3097,  -1.1882,  -2.6082,  -0.6480,  -2.0290,\n",
       "          4.7966,  -1.0161,  -2.4618,  -1.2331,  -1.0124,  -2.9120,\n",
       "         -2.1062,  -2.0676,  -3.1262,   3.5450,   1.3166,  -2.8266,\n",
       "          4.1164,  -2.0181,  -1.4966,   3.3726,   4.6523,   1.7250,\n",
       "         -2.6552,  -2.2477,   1.3617,  -0.3848,  -1.9606,  -2.4141,\n",
       "         -3.2981,  -2.1314,  -0.7836,   7.6641,   2.0052,  -1.7381,\n",
       "         -1.0270,  -2.1240,   3.7740,   1.1282,  -3.2502,  -1.9701,\n",
       "          1.9323,  -3.1633,  -0.5744,   2.2044])"
      ]
     },
     "execution_count": 45,
     "metadata": {},
     "output_type": "execute_result"
    }
   ],
   "source": [
    "Q_target[dones == False]"
   ]
  },
  {
   "cell_type": "code",
   "execution_count": 25,
   "metadata": {},
   "outputs": [
    {
     "data": {
      "text/plain": [
       "tensor([ 0.4659,  3.8953,  7.2243,  0.6857,  1.9092,  1.9875,  2.3692,\n",
       "         2.2573,  2.6127,  3.3217,  3.2720,  1.5764,  0.7909])"
      ]
     },
     "execution_count": 25,
     "metadata": {},
     "output_type": "execute_result"
    }
   ],
   "source": [
    "Q_target[Q_target > 0]"
   ]
  },
  {
   "cell_type": "code",
   "execution_count": 59,
   "metadata": {},
   "outputs": [],
   "source": [
    "torch.nn.utils.clip_grad_value_(agent.qnetwork_local.parameters(), clip_value = 1)"
   ]
  },
  {
   "cell_type": "code",
   "execution_count": 62,
   "metadata": {},
   "outputs": [],
   "source": [
    "Q_pred = torch.max(agent.qnetwork_local(next_states), 1)[0].view(64,1)"
   ]
  },
  {
   "cell_type": "code",
   "execution_count": 63,
   "metadata": {},
   "outputs": [],
   "source": [
    "loss_fn = torch.nn.MSELoss()\n",
    "optimizer = torch.optim.SGD(agent.qnetwork_local.parameters(), lr=0.01)"
   ]
  },
  {
   "cell_type": "code",
   "execution_count": 64,
   "metadata": {
    "scrolled": true
   },
   "outputs": [],
   "source": [
    "loss = loss_fn(Q_pred, Q_target)"
   ]
  },
  {
   "cell_type": "code",
   "execution_count": 65,
   "metadata": {},
   "outputs": [],
   "source": [
    "optimizer.zero_grad()\n",
    "loss.backward()\n",
    "optimizer.step()"
   ]
  },
  {
   "cell_type": "code",
   "execution_count": 81,
   "metadata": {},
   "outputs": [
    {
     "data": {
      "text/plain": [
       "['__version__', 'version']"
      ]
     },
     "execution_count": 81,
     "metadata": {},
     "output_type": "execute_result"
    }
   ],
   "source": [
    "[s for s in dir(torch) if s.find(\"version\") != -1]"
   ]
  },
  {
   "cell_type": "code",
   "execution_count": 82,
   "metadata": {},
   "outputs": [
    {
     "data": {
      "text/plain": [
       "'0.4.0'"
      ]
     },
     "execution_count": 82,
     "metadata": {},
     "output_type": "execute_result"
    }
   ],
   "source": [
    "torch.__version__"
   ]
  },
  {
   "cell_type": "code",
   "execution_count": 6,
   "metadata": {},
   "outputs": [],
   "source": [
    "state = env.reset()"
   ]
  },
  {
   "cell_type": "code",
   "execution_count": 12,
   "metadata": {},
   "outputs": [],
   "source": [
    "s_next, r, done, _ = env.step(0)"
   ]
  },
  {
   "cell_type": "code",
   "execution_count": 29,
   "metadata": {},
   "outputs": [
    {
     "data": {
      "text/plain": [
       "torch.Size([2, 8])"
      ]
     },
     "execution_count": 29,
     "metadata": {},
     "output_type": "execute_result"
    }
   ],
   "source": [
    "t_states = torch.from_numpy(np.vstack([state, s_next])).float()\n",
    "t_states.size()"
   ]
  },
  {
   "cell_type": "code",
   "execution_count": 36,
   "metadata": {},
   "outputs": [],
   "source": [
    "rewards = torch.from_numpy(np.vstack([r, r])).float()"
   ]
  },
  {
   "cell_type": "code",
   "execution_count": 54,
   "metadata": {},
   "outputs": [
    {
     "data": {
      "text/plain": [
       "tensor([[ 0.1430],\n",
       "        [ 0.1397]])"
      ]
     },
     "execution_count": 54,
     "metadata": {},
     "output_type": "execute_result"
    }
   ],
   "source": [
    "torch.max(agent.qnetwork_target(t_states), 1)[0].view(2,1)"
   ]
  },
  {
   "cell_type": "code",
   "execution_count": 57,
   "metadata": {},
   "outputs": [
    {
     "data": {
      "text/plain": [
       "tensor([[ 0.1415],\n",
       "        [ 0.1383]])"
      ]
     },
     "execution_count": 57,
     "metadata": {},
     "output_type": "execute_result"
    }
   ],
   "source": [
    "rewards + 0.99*torch.max(agent.qnetwork_target(t_states), 1)[0].view(2,1)"
   ]
  },
  {
   "cell_type": "code",
   "execution_count": 55,
   "metadata": {},
   "outputs": [
    {
     "data": {
      "text/plain": [
       "tensor([[-1.5840],\n",
       "        [-1.5840]])"
      ]
     },
     "execution_count": 55,
     "metadata": {},
     "output_type": "execute_result"
    }
   ],
   "source": [
    "rewards"
   ]
  },
  {
   "cell_type": "code",
   "execution_count": 52,
   "metadata": {},
   "outputs": [
    {
     "data": {
      "text/plain": [
       "tensor([ 0.1415,  0.1383])"
      ]
     },
     "execution_count": 52,
     "metadata": {},
     "output_type": "execute_result"
    }
   ],
   "source": [
    "0.99 * torch.max(agent.qnetwork_target(t_states), 1)[0]"
   ]
  },
  {
   "cell_type": "code",
   "execution_count": 26,
   "metadata": {},
   "outputs": [
    {
     "data": {
      "text/plain": [
       "tensor(-1.4425)"
      ]
     },
     "execution_count": 26,
     "metadata": {},
     "output_type": "execute_result"
    }
   ],
   "source": [
    "t_states = torch.from_numpy(np.vstack([state, s_next])).float()\n",
    "q_t =  torch.tensor(r) + 0.99 * torch.max(agent.qnetwork_target(t_state))\n",
    "q_t "
   ]
  },
  {
   "cell_type": "code",
   "execution_count": 23,
   "metadata": {},
   "outputs": [
    {
     "data": {
      "text/plain": [
       "tensor(-1.5840)"
      ]
     },
     "execution_count": 23,
     "metadata": {},
     "output_type": "execute_result"
    }
   ],
   "source": [
    "torch.tensor(r)"
   ]
  },
  {
   "cell_type": "code",
   "execution_count": 19,
   "metadata": {},
   "outputs": [
    {
     "ename": "TypeError",
     "evalue": "expected np.ndarray (got numpy.float64)",
     "output_type": "error",
     "traceback": [
      "\u001b[0;31m---------------------------------------------------------------------------\u001b[0m",
      "\u001b[0;31mTypeError\u001b[0m                                 Traceback (most recent call last)",
      "\u001b[0;32m<ipython-input-19-5e6a9f2211b5>\u001b[0m in \u001b[0;36m<module>\u001b[0;34m()\u001b[0m\n\u001b[0;32m----> 1\u001b[0;31m \u001b[0mtorch\u001b[0m\u001b[0;34m.\u001b[0m\u001b[0mfrom_numpy\u001b[0m\u001b[0;34m(\u001b[0m\u001b[0mr\u001b[0m\u001b[0;34m)\u001b[0m\u001b[0;34m.\u001b[0m\u001b[0mfloat\u001b[0m\u001b[0;34m(\u001b[0m\u001b[0;34m)\u001b[0m\u001b[0;34m\u001b[0m\u001b[0m\n\u001b[0m",
      "\u001b[0;31mTypeError\u001b[0m: expected np.ndarray (got numpy.float64)"
     ]
    }
   ],
   "source": [
    "torch.from_numpy(r)"
   ]
  },
  {
   "cell_type": "code",
   "execution_count": 25,
   "metadata": {},
   "outputs": [
    {
     "data": {
      "text/plain": [
       "tensor(-1.4425)"
      ]
     },
     "execution_count": 25,
     "metadata": {},
     "output_type": "execute_result"
    }
   ],
   "source": [
    "torch.tensor(r) +  0.99*torch.max(agent.qnetwork_target(t_state))"
   ]
  },
  {
   "cell_type": "code",
   "execution_count": 6,
   "metadata": {},
   "outputs": [
    {
     "name": "stdout",
     "output_type": "stream",
     "text": [
      "0 0 0\n",
      "1 1 1\n",
      "2 2 2\n",
      "3 3 3\n",
      "4 4 4\n",
      "5 5 5\n",
      "6 6 6\n",
      "7 7 7\n",
      "8 8 8\n",
      "9 9 9\n"
     ]
    }
   ],
   "source": [
    "for (i, (a, b)) in enumerate(zip(range(10), range(10))):\n",
    "    print(i, a, b)"
   ]
  }
 ],
 "metadata": {
  "kernelspec": {
   "display_name": "Python 3",
   "language": "python",
   "name": "python3"
  },
  "language_info": {
   "codemirror_mode": {
    "name": "ipython",
    "version": 3
   },
   "file_extension": ".py",
   "mimetype": "text/x-python",
   "name": "python",
   "nbconvert_exporter": "python",
   "pygments_lexer": "ipython3",
   "version": "3.6.3"
  }
 },
 "nbformat": 4,
 "nbformat_minor": 2
}
